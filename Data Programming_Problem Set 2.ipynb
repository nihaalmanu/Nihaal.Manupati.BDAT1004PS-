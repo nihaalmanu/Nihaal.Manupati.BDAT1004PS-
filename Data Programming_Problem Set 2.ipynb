{
 "cells": [
  {
   "cell_type": "code",
   "execution_count": 1,
   "id": "771aab28-8e1c-4cf5-bbc5-5cb792ec1e1c",
   "metadata": {
    "tags": []
   },
   "outputs": [],
   "source": [
    "#Question 1\n",
    "\n",
    "a = 0\n",
    "def b():\n",
    "    global a\n",
    "    a = c(a)\n",
    "def c(a):\n",
    "    return a + 2"
   ]
  },
  {
   "cell_type": "code",
   "execution_count": 2,
   "id": "eb2dbde1-ff27-405f-9e66-0e5d532e32d4",
   "metadata": {
    "tags": []
   },
   "outputs": [],
   "source": [
    "b()"
   ]
  },
  {
   "cell_type": "code",
   "execution_count": 3,
   "id": "ae35bac8-6f04-4a04-bd72-afb5ab65bdd5",
   "metadata": {
    "tags": []
   },
   "outputs": [],
   "source": [
    "b()"
   ]
  },
  {
   "cell_type": "code",
   "execution_count": 4,
   "id": "86bf144c-5492-47f2-bac7-a99d81ce4eb8",
   "metadata": {
    "tags": []
   },
   "outputs": [],
   "source": [
    "b()"
   ]
  },
  {
   "cell_type": "code",
   "execution_count": 5,
   "id": "3a685ca5-b84f-4db5-8ef4-ebea4be52503",
   "metadata": {
    "tags": []
   },
   "outputs": [
    {
     "data": {
      "text/plain": [
       "6"
      ]
     },
     "execution_count": 5,
     "metadata": {},
     "output_type": "execute_result"
    }
   ],
   "source": [
    "a"
   ]
  },
  {
   "cell_type": "code",
   "execution_count": null,
   "id": "22c60ef5-fd00-4b85-9205-41ef80cd30bd",
   "metadata": {},
   "outputs": [],
   "source": [
    "#Explanation:\n",
    "\n",
    "#When the module is imported into the interpreter, the variable a is initialized to 0 and the function b and c are defined.\n",
    "\n",
    "#The function b modifies the value of a by calling the function c with a as its argument. In the function c, the value of a is incremented by 2 and returned.\n",
    "\n",
    "#Executing the statement b() three times updates the value of a three times. The first call to b sets a to c(0) which is 0 + 2 = 2. The second call to b sets a to c(2) which is 2 + 2 = 4. The third call to b sets a to c(4) which is 4 + 2 = 6.\n",
    "\n",
    "#Finally, when the last expression a is evaluated, the current value of a is returned, which is 6."
   ]
  },
  {
   "cell_type": "code",
   "execution_count": 8,
   "id": "6b1faf0d-4f2a-4f0a-8d98-b1a3b3dbcaa9",
   "metadata": {
    "tags": []
   },
   "outputs": [],
   "source": [
    "#Question 2\n",
    "\n",
    "def file_length(file_name):\n",
    "    try:\n",
    "        file = open(file_name)\n",
    "        contents = file.read()\n",
    "        file.close()\n",
    "        print(len(contents))\n",
    "    except FileNotFoundError:\n",
    "        print(f\"File {file_name} not found.\")\n",
    "\n"
   ]
  },
  {
   "cell_type": "code",
   "execution_count": 10,
   "id": "8a03d3e0-f898-441f-9de8-157b03984196",
   "metadata": {
    "tags": []
   },
   "outputs": [
    {
     "name": "stdout",
     "output_type": "stream",
     "text": [
      "123\n"
     ]
    }
   ],
   "source": [
    "file_length(\"Filelength.txt\")"
   ]
  },
  {
   "cell_type": "code",
   "execution_count": 11,
   "id": "ad9c66c0-927f-4ad5-8c8d-57757e334c29",
   "metadata": {
    "tags": []
   },
   "outputs": [
    {
     "name": "stdout",
     "output_type": "stream",
     "text": [
      "File idterm.py not found.\n"
     ]
    }
   ],
   "source": [
    "file_length(\"idterm.py\")"
   ]
  },
  {
   "cell_type": "code",
   "execution_count": 12,
   "id": "970ea760-72be-4cba-b26a-38d6ebd6e3fa",
   "metadata": {
    "tags": []
   },
   "outputs": [],
   "source": [
    "#Question 3\n",
    "\n",
    "class Marsupial:\n",
    "    def __init__(self):\n",
    "        self.pouch = []\n",
    "\n",
    "    def put_in_pouch(self, item):\n",
    "        self.pouch.append(item)\n",
    "\n",
    "    def pouch_contents(self):\n",
    "        return self.pouch\n"
   ]
  },
  {
   "cell_type": "code",
   "execution_count": 13,
   "id": "6f049366-f7db-4ac7-94a3-cb648a44e00b",
   "metadata": {
    "tags": []
   },
   "outputs": [],
   "source": [
    "class Kangaroo(Marsupial):\n",
    "    def __init__(self, x, y):\n",
    "        super().__init__()\n",
    "        self.x = x\n",
    "        self.y = y\n",
    "    \n",
    "    def jump(self, dx, dy):\n",
    "        self.x += dx\n",
    "        self.y += dy\n",
    "    \n",
    "    def __str__(self):\n",
    "        return f\"I am a Kangaroo located at coordinates ({self.x},{self.y})\"\n"
   ]
  },
  {
   "cell_type": "code",
   "execution_count": 14,
   "id": "f2f1c00b-209a-4adf-85dc-3faab1835328",
   "metadata": {
    "tags": []
   },
   "outputs": [],
   "source": [
    "k = Kangaroo(0,0)"
   ]
  },
  {
   "cell_type": "code",
   "execution_count": 15,
   "id": "458197b1-7620-46a9-baba-d24441b1e1e3",
   "metadata": {
    "tags": []
   },
   "outputs": [
    {
     "name": "stdout",
     "output_type": "stream",
     "text": [
      "I am a Kangaroo located at coordinates (0,0)\n"
     ]
    }
   ],
   "source": [
    "print(k)"
   ]
  },
  {
   "cell_type": "code",
   "execution_count": 16,
   "id": "f2fdda47-2e1a-4561-8869-edc1eb49f7cf",
   "metadata": {
    "tags": []
   },
   "outputs": [],
   "source": [
    "k.put_in_pouch('doll')"
   ]
  },
  {
   "cell_type": "code",
   "execution_count": 17,
   "id": "45aebbf5-67ac-4629-b064-fa9da3572255",
   "metadata": {
    "tags": []
   },
   "outputs": [],
   "source": [
    "k.put_in_pouch('firetruck')"
   ]
  },
  {
   "cell_type": "code",
   "execution_count": 18,
   "id": "fe4c11d4-301d-4883-8f89-aee43a5ce7fc",
   "metadata": {
    "tags": []
   },
   "outputs": [],
   "source": [
    "k.put_in_pouch('kitten')"
   ]
  },
  {
   "cell_type": "code",
   "execution_count": 19,
   "id": "31e7339e-7163-4529-8d66-5d9139b0afcf",
   "metadata": {
    "tags": []
   },
   "outputs": [
    {
     "name": "stdout",
     "output_type": "stream",
     "text": [
      "['doll', 'firetruck', 'kitten']\n"
     ]
    }
   ],
   "source": [
    "print(k.pouch_contents())"
   ]
  },
  {
   "cell_type": "code",
   "execution_count": 20,
   "id": "3b92296e-e878-4b38-bea2-235a921d9683",
   "metadata": {
    "tags": []
   },
   "outputs": [],
   "source": [
    "k.jump(1,0)"
   ]
  },
  {
   "cell_type": "code",
   "execution_count": 21,
   "id": "7ccb7a82-1b7b-4274-914b-60323db6418e",
   "metadata": {
    "tags": []
   },
   "outputs": [],
   "source": [
    "k.jump(1,0)"
   ]
  },
  {
   "cell_type": "code",
   "execution_count": 22,
   "id": "caffde8c-a25e-4a3f-bd0e-9c1a7d787cf7",
   "metadata": {
    "tags": []
   },
   "outputs": [],
   "source": [
    "k.jump(1,0)"
   ]
  },
  {
   "cell_type": "code",
   "execution_count": 23,
   "id": "3eba42d5-fe81-4480-a3e0-ffd725312087",
   "metadata": {
    "tags": []
   },
   "outputs": [
    {
     "name": "stdout",
     "output_type": "stream",
     "text": [
      "I am a Kangaroo located at coordinates (3,0)\n"
     ]
    }
   ],
   "source": [
    "print(k)"
   ]
  },
  {
   "cell_type": "code",
   "execution_count": 24,
   "id": "438cfcb9-8707-401d-ba43-9c0e5afcc9db",
   "metadata": {
    "tags": []
   },
   "outputs": [],
   "source": [
    "#Question 4\n",
    "\n",
    "def collatz(x):\n",
    "    print(x)\n",
    "    if x == 1:\n",
    "        return\n",
    "    elif x % 2 == 0:\n",
    "        collatz(x//2)\n",
    "    else:\n",
    "        collatz(3*x + 1)\n"
   ]
  },
  {
   "cell_type": "code",
   "execution_count": 25,
   "id": "e792b94e-0a26-4b29-bca7-291d6ddb6239",
   "metadata": {
    "tags": []
   },
   "outputs": [
    {
     "name": "stdout",
     "output_type": "stream",
     "text": [
      "1\n"
     ]
    }
   ],
   "source": [
    "collatz(1)"
   ]
  },
  {
   "cell_type": "code",
   "execution_count": 26,
   "id": "a1bbda8d-b84d-44dc-bff8-90b466ed61f2",
   "metadata": {
    "tags": []
   },
   "outputs": [
    {
     "name": "stdout",
     "output_type": "stream",
     "text": [
      "10\n",
      "5\n",
      "16\n",
      "8\n",
      "4\n",
      "2\n",
      "1\n"
     ]
    }
   ],
   "source": [
    "collatz(10)"
   ]
  },
  {
   "cell_type": "code",
   "execution_count": 27,
   "id": "a83860d4-dde4-4972-9bfb-ce6a01d93ceb",
   "metadata": {
    "tags": []
   },
   "outputs": [],
   "source": [
    "#Question 5\n",
    "\n",
    "def binary(n):\n",
    "    if n == 0:\n",
    "        return \"0\"\n",
    "    elif n == 1:\n",
    "        return \"1\"\n",
    "    else:\n",
    "        return binary(n // 2) + str(n % 2)\n"
   ]
  },
  {
   "cell_type": "code",
   "execution_count": 28,
   "id": "d86392f7-967a-4891-a998-13d8e3b8e13d",
   "metadata": {
    "tags": []
   },
   "outputs": [
    {
     "data": {
      "text/plain": [
       "'0'"
      ]
     },
     "execution_count": 28,
     "metadata": {},
     "output_type": "execute_result"
    }
   ],
   "source": [
    "binary(0)"
   ]
  },
  {
   "cell_type": "code",
   "execution_count": 29,
   "id": "b102dcc1-149b-43f1-a952-7175c4631dea",
   "metadata": {
    "tags": []
   },
   "outputs": [
    {
     "data": {
      "text/plain": [
       "'1'"
      ]
     },
     "execution_count": 29,
     "metadata": {},
     "output_type": "execute_result"
    }
   ],
   "source": [
    "binary(1)"
   ]
  },
  {
   "cell_type": "code",
   "execution_count": 30,
   "id": "be36f746-c2b1-45cd-abba-ca5f879b036b",
   "metadata": {
    "tags": []
   },
   "outputs": [
    {
     "data": {
      "text/plain": [
       "'11'"
      ]
     },
     "execution_count": 30,
     "metadata": {},
     "output_type": "execute_result"
    }
   ],
   "source": [
    "binary(3)"
   ]
  },
  {
   "cell_type": "code",
   "execution_count": 31,
   "id": "e1d249fb-9f2c-48c9-8899-e88740f3128d",
   "metadata": {
    "tags": []
   },
   "outputs": [
    {
     "data": {
      "text/plain": [
       "'1001'"
      ]
     },
     "execution_count": 31,
     "metadata": {},
     "output_type": "execute_result"
    }
   ],
   "source": [
    "binary(9)"
   ]
  },
  {
   "cell_type": "code",
   "execution_count": 16,
   "id": "270efad4-5306-4c5e-aaba-3390eccbce17",
   "metadata": {
    "tags": []
   },
   "outputs": [
    {
     "name": "stdout",
     "output_type": "stream",
     "text": [
      " W3C Mission\n",
      "  Principles\n"
     ]
    }
   ],
   "source": [
    "#Question 6\n",
    "\n",
    "from html.parser import HTMLParser\n",
    "\n",
    "\n",
    "class HeadingParser(HTMLParser):\n",
    "    def __init__(self):\n",
    "        super().__init__()\n",
    "        self.all_headings = []\n",
    "\n",
    "    def handle_starttag(self, tag, attrs):\n",
    "        if tag.startswith('h') and tag[1:].isdigit():\n",
    "            self.all_headings.append((int(tag[1:]), ''))\n",
    "\n",
    "    def handle_data(self, d):\n",
    "        if self.all_headings:\n",
    "            i, j = self.all_headings[-1]\n",
    "            self.all_headings[-1] = (i, j + d.strip())\n",
    "\n",
    "    def handle_endtag(self, tag):\n",
    "        if self.all_headings:\n",
    "            i, j = self.all_headings.pop()\n",
    "            print(' ' * i + j)\n",
    "\n",
    "with open('w3c.html') as infile:\n",
    "    content = infile.read()\n",
    "\n",
    "hp = HeadingParser()\n",
    "hp.feed(content)"
   ]
  },
  {
   "cell_type": "code",
   "execution_count": 17,
   "id": "112776eb-e31a-4119-a719-096b24984ed6",
   "metadata": {
    "tags": []
   },
   "outputs": [],
   "source": [
    "#Question 7\n",
    "\n",
    "import requests\n",
    "from bs4 import BeautifulSoup\n",
    "\n",
    "def webdir(url, depth, indent):\n",
    "    print(' ' * indent + url)\n",
    "    if depth == 0:\n",
    "        return\n",
    "\n",
    "    response = requests.get(url)\n",
    "    if response.status_code == 200:\n",
    "        soup = BeautifulSoup(response.content, 'html.parser')\n",
    "        links = soup.find_all('a')\n",
    "\n",
    "        for link in links:\n",
    "            href = link.get('href')\n",
    "            if href.startswith('http'):\n",
    "                webdir(href, depth - 1, indent + 4)\n"
   ]
  },
  {
   "cell_type": "code",
   "execution_count": 18,
   "id": "d456ff17-10fa-4774-b088-dcef5513a9d5",
   "metadata": {
    "tags": []
   },
   "outputs": [
    {
     "name": "stdout",
     "output_type": "stream",
     "text": [
      "http://reed.cs.depaul.edu/lperkovic/csc242/test1.html\n"
     ]
    }
   ],
   "source": [
    "webdir('http://reed.cs.depaul.edu/lperkovic/csc242/test1.html', 2, 0)"
   ]
  },
  {
   "cell_type": "code",
   "execution_count": null,
   "id": "6ab2e1ca-631f-4e15-ac35-c915d3ac001d",
   "metadata": {},
   "outputs": [],
   "source": [
    "#Question 8\n",
    "\n",
    "a) All the temperature data.\n",
    "\n",
    "SELECT \"Temperature (C)\" FROM table_name;\n",
    "\n",
    "b) All the cities, but without repetition.\n",
    "\n",
    "SELECT DISTINCT City FROM table_name;\n",
    "\n",
    "c) All the records for India.\n",
    "\n",
    "SELECT * FROM table_name WHERE Country='India';\n",
    "\n",
    "d) All the Fall records.\n",
    "\n",
    "SELECT * FROM table_name WHERE Season='Fall';\n",
    "\n",
    "e) The city, country, and season for which the average rainfall is between 200 and 400 millimeters.\n",
    "\n",
    "SELECT City, Country, Season FROM table_name\n",
    "WHERE \"Rainfall (mm)\" BETWEEN 200 AND 400;\n",
    "\n",
    "f) The city and country for which the average Fall temperature is above 20 degrees, in increasing temperature order.\n",
    "\n",
    "SELECT City, Country FROM table_name\n",
    "WHERE Season='Fall' AND \"Temperature (C)\" > 20\n",
    "ORDER BY \"Temperature (C)\" ASC;\n",
    "\n",
    "g) The total annual rainfall for Cairo.\n",
    "\n",
    "SELECT SUM(\"Rainfall (mm)\") AS \"Total Annual Rainfall\" FROM table_name\n",
    "WHERE City='Cairo';\n",
    "\n",
    "h) The total rainfall for each season.\n",
    "\n",
    "SELECT Season, SUM(\"Rainfall (mm)\") AS \"Total Rainfall\" FROM table_name\n",
    "GROUP BY Season;\n"
   ]
  },
  {
   "cell_type": "code",
   "execution_count": null,
   "id": "79058303-6b1c-49e2-961a-1db64d35d74e",
   "metadata": {},
   "outputs": [],
   "source": [
    "#Question 9\n",
    "\n",
    "a) [word.upper() for word in words]\n",
    "\n",
    "b) [word.lower() for word in words]\n",
    "\n",
    "c) [len(word) for word in words]\n",
    "\n",
    "d) [[word.upper(), word.lower(), len(word)] for word in words]\n",
    "\n",
    "e) words"
   ]
  }
 ],
 "metadata": {
  "kernelspec": {
   "display_name": "Python 3 (ipykernel)",
   "language": "python",
   "name": "python3"
  },
  "language_info": {
   "codemirror_mode": {
    "name": "ipython",
    "version": 3
   },
   "file_extension": ".py",
   "mimetype": "text/x-python",
   "name": "python",
   "nbconvert_exporter": "python",
   "pygments_lexer": "ipython3",
   "version": "3.11.1"
  }
 },
 "nbformat": 4,
 "nbformat_minor": 5
}
