{
 "cells": [
  {
   "cell_type": "code",
   "execution_count": 4,
   "id": "6349d22d-69cb-4219-8b79-f715548a0e8f",
   "metadata": {
    "tags": []
   },
   "outputs": [
    {
     "name": "stdout",
     "output_type": "stream",
     "text": [
      "<class 'int'>\n",
      "<class 'float'>\n",
      "<class 'bool'>\n",
      "<class 'str'>\n",
      "<class 'int'>\n",
      "<class 'str'>\n",
      "<class 'str'>\n",
      "<class 'float'>\n",
      "<class 'int'>\n",
      "<class 'set'>\n",
      "<class 'bool'>\n",
      "<class 'float'>\n"
     ]
    }
   ],
   "source": [
    "#Question 1 What data type is each of the following (evaluate where necessary)?\n",
    "\n",
    "print(type(5))\n",
    "print(type(5.0))\n",
    "print(type(5 > 1))\n",
    "print(type('5'))\n",
    "print(type(5 * 2))\n",
    "print(type('5' * 2))\n",
    "print(type('5' + '2'))\n",
    "print(type(5 / 2))\n",
    "print(type(5 % 2))\n",
    "print(type({5, 2, 1}))\n",
    "print(type(5 == 3))\n",
    "print(type(3.14))"
   ]
  },
  {
   "cell_type": "code",
   "execution_count": 9,
   "id": "ab4b07f0-b6a3-4405-9eec-440cb417c934",
   "metadata": {
    "tags": []
   },
   "outputs": [
    {
     "name": "stdout",
     "output_type": "stream",
     "text": [
      "34\n"
     ]
    }
   ],
   "source": [
    "#Question 2 Write (and evaluate) python expressions that answer these questions:\n",
    "#a. How many letters are there in 'Supercalifragilisticexpialidocious'?\n",
    "\n",
    "word = 'Supercalifragilisticexpialidocious'\n",
    "print(len(word))\n"
   ]
  },
  {
   "cell_type": "code",
   "execution_count": 10,
   "id": "967d1cf4-a843-4f44-b923-c255a6095b9d",
   "metadata": {
    "tags": []
   },
   "outputs": [
    {
     "data": {
      "text/plain": [
       "True"
      ]
     },
     "execution_count": 10,
     "metadata": {},
     "output_type": "execute_result"
    }
   ],
   "source": [
    "#b. Does 'Supercalifragilisticexpialidocious' contain 'ice' as a substring?\n",
    "\n",
    "'ice' in word\n"
   ]
  },
  {
   "cell_type": "code",
   "execution_count": 12,
   "id": "e4f06f14-68ad-4096-8035-981aa555995f",
   "metadata": {
    "tags": []
   },
   "outputs": [
    {
     "data": {
      "text/plain": [
       "'Supercalifragilisticexpialidocious'"
      ]
     },
     "execution_count": 12,
     "metadata": {},
     "output_type": "execute_result"
    }
   ],
   "source": [
    "#c.Which of the following words is the longest:Supercalifragilisticexpialidocious, Honorificabilitudinitatibus, or Bababadalgharaghtakamminarronnkonn?\n",
    "\n",
    "word_1 = 'Supercalifragilisticexpialidocious'\n",
    "word_2 = 'Honorificabilitudinitatibus'\n",
    "word_3 = 'Bababadalgharaghtakamminarronnkonn'\n",
    "\n",
    "longest_word = max(word_1, word_2, word_3, key=len)\n",
    "longest_word\n"
   ]
  },
  {
   "cell_type": "code",
   "execution_count": 13,
   "id": "602938ee-199b-4ddb-b15d-e5e1989862e1",
   "metadata": {
    "tags": []
   },
   "outputs": [
    {
     "name": "stdout",
     "output_type": "stream",
     "text": [
      "First composer: Bartok\n",
      "Last composer: Buxtehude\n"
     ]
    }
   ],
   "source": [
    "#d. Which composer comes first in the dictionary: 'Berlioz', 'Borodin', 'Brian', 'Bartok', 'Bellini', 'Buxtehude', 'Bernstein'. Which one comes last?\n",
    "\n",
    "composers = ['Berlioz', 'Borodin', 'Brian', 'Bartok', 'Bellini', 'Buxtehude', 'Bernstein']\n",
    "\n",
    "composers.sort()\n",
    "print(\"First composer:\", composers[0])\n",
    "print(\"Last composer:\", composers[-1])\n"
   ]
  },
  {
   "cell_type": "code",
   "execution_count": 15,
   "id": "e1544952-dc48-467e-bc24-fc7550d32950",
   "metadata": {
    "tags": []
   },
   "outputs": [
    {
     "name": "stdout",
     "output_type": "stream",
     "text": [
      "1.7320508075688772\n"
     ]
    }
   ],
   "source": [
    "#Question 3.Implement function triangleArea(a,b,c) that takes as input the lengths of the 3 sides of a triangle and returns the area of the triangle. By Heron's formula, the area of a triangle with side lengths a, b, and c is\n",
    "#s(s - a)(s -b)(s -c), where\n",
    "#s = (a +b + c) /2.\n",
    "#>>> triangleArea(2,2,2)\n",
    "#1.7320508075688772\n",
    "\n",
    "import math\n",
    "\n",
    "def triangleArea(a, b, c):\n",
    "    s = (a + b + c) / 2\n",
    "    area = math.sqrt(s * (s - a) * (s - b) * (s - c))\n",
    "    return area\n",
    "\n",
    "Area = triangleArea(2, 2, 2)\n",
    "print(Area)\n"
   ]
  },
  {
   "cell_type": "code",
   "execution_count": 16,
   "id": "968ec2b8-3b9f-4080-941d-f04e601bf61e",
   "metadata": {
    "tags": []
   },
   "outputs": [
    {
     "name": "stdin",
     "output_type": "stream",
     "text": [
      "Input the number of elements to be stored in the array:  5\n",
      "element - 0 :  25\n",
      "element - 1 :  47\n",
      "element - 2 :  42\n",
      "element - 3 :  56\n",
      "element - 4 :  32\n"
     ]
    },
    {
     "name": "stdout",
     "output_type": "stream",
     "text": [
      "The Even elements are:\n",
      "42 56 32\n",
      "The Odd elements are :\n",
      "25 47\n"
     ]
    }
   ],
   "source": [
    "#Question 4.Write a program in python to separate odd and even integers in separate arrays.\n",
    "\n",
    "def separate_odd_even(input_array):\n",
    "  even_array = []\n",
    "  odd_array = []\n",
    "  for i in input_array:\n",
    "    if i % 2 == 0:\n",
    "      even_array.append(i)\n",
    "    else:\n",
    "      odd_array.append(i)\n",
    "  return even_array, odd_array\n",
    "\n",
    "# input the number of elements\n",
    "n = int(input(\"Input the number of elements to be stored in the array: \"))\n",
    "\n",
    "# input the elements\n",
    "input_array = []\n",
    "for i in range(n):\n",
    "  x = int(input(f\"element - {i} : \"))\n",
    "  input_array.append(x)\n",
    "\n",
    "even_array, odd_array = separate_odd_even(input_array)\n",
    "\n",
    "print(\"The Even elements are:\")\n",
    "print(*even_array)\n",
    "\n",
    "print(\"The Odd elements are :\")\n",
    "print(*odd_array)\n",
    "\n"
   ]
  },
  {
   "cell_type": "code",
   "execution_count": 17,
   "id": "0b568b50-4c30-40ff-827f-09123f2b2fed",
   "metadata": {
    "tags": []
   },
   "outputs": [
    {
     "name": "stdout",
     "output_type": "stream",
     "text": [
      "True\n",
      "False\n"
     ]
    }
   ],
   "source": [
    "#Question 5:\n",
    "\n",
    "#a. Write a function inside(x,y,x1,y1,x2,y2) that returns True or False depending on whether the point (x,y) lies in the rectangle with lower left corner (x1,y1) and upper right corner (x2,y2).\n",
    "#>>> inside(1,1,0,0,2,3)\n",
    "#True\n",
    "#>>> inside(-1,-1,0,0,2,3)\n",
    "#False\n",
    "\n",
    "\n",
    "def inside(x,y,x1,y1,x2,y2):\n",
    "  if x >= x1 and x <= x2 and y >= y1 and y <= y2:\n",
    "    return True\n",
    "  else:\n",
    "    return False\n",
    "\n",
    "print(inside(1,1,0,0,2,3))\n",
    "print(inside(-1,-1,0,0,2,3))\n",
    "\n",
    "\n",
    "\n"
   ]
  },
  {
   "cell_type": "code",
   "execution_count": 20,
   "id": "c093b845-f3c0-463a-a976-e98b0716b502",
   "metadata": {
    "tags": []
   },
   "outputs": [
    {
     "name": "stdout",
     "output_type": "stream",
     "text": [
      "The point (1,1) does not lie in both rectangles\n"
     ]
    }
   ],
   "source": [
    "#b. Use function inside() from part a. to write an expression that tests whether the point (1,1) lies in both of the following rectangles: one with lower left corner (0.3, 0.5) and upper right corner (1.1, 0.7) and the other with lower left corner (0.5, 0.2) and upper right corner (1.1, 2).\n",
    "\n",
    "rectangle_1 = inside(1,1,0.3,0.5,1.1,0.7)\n",
    "rectangle_2 = inside(1,1,0.5,0.2,1.1,2)\n",
    "\n",
    "if rectangle_1 and rectangle_2:\n",
    "  print(\"The point (1,1) lies in both rectangles\")\n",
    "else:\n",
    "  print(\"The point (1,1) does not lie in both rectangles\")\n"
   ]
  },
  {
   "cell_type": "code",
   "execution_count": 24,
   "id": "654a9e3b-a321-4a9e-b9ac-1eefc99631a4",
   "metadata": {
    "tags": []
   },
   "outputs": [
    {
     "name": "stdin",
     "output_type": "stream",
     "text": [
      "Input the word:  Enter\n"
     ]
    },
    {
     "name": "stdout",
     "output_type": "stream",
     "text": [
      "enterway\n"
     ]
    }
   ],
   "source": [
    "#Question 6.\n",
    "\n",
    "#You can turn a word into pig-Latin using the following two rules (simplified):\n",
    "#• If the word starts with a consonant, move that letter to the end and append 'ay'. For example, 'happy' becomes 'appyhay' and 'pencil' becomes 'encilpay'.\n",
    "#• If the word starts with a vowel, simply append 'way' to the end of the word. For example, 'enter' becomes 'enterway' and 'other' becomes 'otherway' . For our purposes, there are 5 vowels: a, e, i, o, u (so we count y as a consonant).\n",
    "#Write a function pig() that takes a word (i.e., a string) as input and returns its pig-Latin form. Your function should still work if the input word contains upper case characters. Your output should always be lower case however.\n",
    "#>>> pig('happy')\n",
    "#'appyhay'\n",
    "#>>> pig('Enter')\n",
    "#'enterway'\n",
    "\n",
    "def pig(n):\n",
    "    vowels = \"aeiouAEIOU\"\n",
    "    if n[0] in vowels:\n",
    "        return n.lower() + \"way\"\n",
    "    else:\n",
    "        return n.lower()[1:] + n[0].lower() + \"ay\"\n",
    "    \n",
    "n = str(input(\"Input the word: \"))\n",
    "\n",
    "print(pig(n))\n"
   ]
  },
  {
   "cell_type": "code",
   "execution_count": 26,
   "id": "41b8dc06",
   "metadata": {},
   "outputs": [
    {
     "name": "stdout",
     "output_type": "stream",
     "text": [
      "AB AB B O A A AB O AB A O O A A A O O O AB O A A A A A AB AB A AB O AB O A O O O AB O AB AB AB A A O \n",
      "\n",
      "['AB', 'AB', 'B', 'O', 'A', 'A', 'AB', 'O', 'AB', 'A', 'O', 'O', 'A', 'A', 'A', 'O', 'O', 'O', 'AB', 'O', 'A', 'A', 'A', 'A', 'A', 'AB', 'AB', 'A', 'AB', 'O', 'AB', 'O', 'A', 'O', 'O', 'O', 'AB', 'O', 'AB', 'AB', 'AB', 'A', 'A', 'O', '\\n']\n",
      "There are 15 patients of blood type A.\n",
      "There are 1 patients of blood type B.\n",
      "There are 13 patients of blood type AB.\n",
      "There are 15 patients of blood type O.\n",
      "There are 0 patients of blood type OO.\n"
     ]
    }
   ],
   "source": [
    "#Question 7.\n",
    "\n",
    "#File bloodtype1.txt records blood-types of patients (A, B, AB, O or OO) at a clinic. Write a function bldcount() that reads the file with name name and reports (i.e., prints) how many patients there are in each bloodtype.\n",
    "\n",
    "bloodtype=''\n",
    "\n",
    "with open(\"bloodtype1.txt\") as file:\n",
    "    for item in file:\n",
    "        \n",
    "        bloodtype=item\n",
    "        \n",
    "print(bloodtype)\n",
    "\n",
    "A_count = 0\n",
    "B_count = 0\n",
    "AB_count = 0\n",
    "O_count = 0\n",
    "OO_count = 0\n",
    "\n",
    "b_type=[]\n",
    "\n",
    "b_type=bloodtype.split(\" \")\n",
    "\n",
    "print(b_type)\n",
    "\n",
    "for i in range(len(b_type)-1):\n",
    "    \n",
    "    #print(bloodtype[i])\n",
    "    \n",
    "    if(b_type[i] == 'A'):\n",
    "        A_count += 1\n",
    "    elif(b_type[i] == 'B'):\n",
    "        B_count += 1\n",
    "    elif(b_type[i] == 'AB'):\n",
    "        AB_count += 1\n",
    "    elif(b_type[i] == 'O'):\n",
    "        O_count +=1\n",
    "    elif(b_type[i] == 'OO'):\n",
    "        OO_count +=1\n",
    "    else: continue\n",
    "    \n",
    "print('There are ' + str(A_count) + ' patients of blood type A.')\n",
    "print('There are ' + str(B_count) + ' patients of blood type B.')\n",
    "print('There are ' + str(AB_count) + ' patients of blood type AB.')\n",
    "print('There are ' + str(O_count) + ' patients of blood type O.')\n",
    "print('There are ' + str(OO_count) + ' patients of blood type OO.')\n"
   ]
  },
  {
   "cell_type": "code",
   "execution_count": 25,
   "id": "f2472893-8bea-4239-9ddb-9d7636bfba50",
   "metadata": {
    "tags": []
   },
   "outputs": [
    {
     "ename": "TypeError",
     "evalue": "unsupported operand type(s) for +: 'int' and 'str'",
     "output_type": "error",
     "traceback": [
      "\u001b[0;31m---------------------------------------------------------------------------\u001b[0m",
      "\u001b[0;31mTypeError\u001b[0m                                 Traceback (most recent call last)",
      "Cell \u001b[0;32mIn[25], line 5\u001b[0m\n\u001b[1;32m      1\u001b[0m \u001b[38;5;66;03m#Question 9. Each of the following will cause an exception (an error). Identify what type of exception each will cause.\u001b[39;00m\n\u001b[1;32m      2\u001b[0m \n\u001b[1;32m      3\u001b[0m \u001b[38;5;66;03m#Trying to add incompatible variables, as in adding 6 + ‘a’\u001b[39;00m\n\u001b[0;32m----> 5\u001b[0m \u001b[38;5;28mprint\u001b[39m(\u001b[38;5;241;43m6\u001b[39;49m\u001b[43m \u001b[49m\u001b[38;5;241;43m+\u001b[39;49m\u001b[43m \u001b[49m\u001b[38;5;124;43m'\u001b[39;49m\u001b[38;5;124;43ma\u001b[39;49m\u001b[38;5;124;43m'\u001b[39;49m)\n",
      "\u001b[0;31mTypeError\u001b[0m: unsupported operand type(s) for +: 'int' and 'str'"
     ]
    }
   ],
   "source": [
    "#Question 9. Each of the following will cause an exception (an error). Identify what type of exception each will cause.\n",
    "\n",
    "#Trying to add incompatible variables, as in adding 6 + ‘a’\n",
    "\n",
    "print(6 + 'a')"
   ]
  },
  {
   "cell_type": "code",
   "execution_count": 26,
   "id": "535e24c7-b3c2-4421-8b51-753a3ff8d190",
   "metadata": {
    "tags": []
   },
   "outputs": [
    {
     "ename": "IndexError",
     "evalue": "list index out of range",
     "output_type": "error",
     "traceback": [
      "\u001b[0;31m---------------------------------------------------------------------------\u001b[0m",
      "\u001b[0;31mIndexError\u001b[0m                                Traceback (most recent call last)",
      "Cell \u001b[0;32mIn[26], line 7\u001b[0m\n\u001b[1;32m      3\u001b[0m list_1\u001b[38;5;241m=\u001b[39m[\u001b[38;5;241m1\u001b[39m,\u001b[38;5;241m2\u001b[39m,\u001b[38;5;241m3\u001b[39m,\u001b[38;5;241m4\u001b[39m,\u001b[38;5;241m5\u001b[39m,\u001b[38;5;241m6\u001b[39m,\u001b[38;5;241m7\u001b[39m,\u001b[38;5;241m8\u001b[39m,\u001b[38;5;241m9\u001b[39m,\u001b[38;5;241m10\u001b[39m]\n\u001b[1;32m      5\u001b[0m \u001b[38;5;28mlen\u001b[39m(list_1)\n\u001b[0;32m----> 7\u001b[0m \u001b[38;5;28mprint\u001b[39m(\u001b[43mlist_1\u001b[49m\u001b[43m[\u001b[49m\u001b[38;5;241;43m12\u001b[39;49m\u001b[43m]\u001b[49m)\n",
      "\u001b[0;31mIndexError\u001b[0m: list index out of range"
     ]
    }
   ],
   "source": [
    "#Referring to the 12th item of a list that has only 10 items\n",
    "\n",
    "list_1=[1,2,3,4,5,6,7,8,9,10]\n",
    "\n",
    "len(list_1)\n",
    "\n",
    "print(list_1[12])"
   ]
  },
  {
   "cell_type": "code",
   "execution_count": 30,
   "id": "bf7b0571-2850-4756-8915-7d69910d272b",
   "metadata": {
    "tags": []
   },
   "outputs": [
    {
     "name": "stdout",
     "output_type": "stream",
     "text": [
      "math domain error\n"
     ]
    }
   ],
   "source": [
    "#Using a value that is out of range for a function’s input, such as calling math.sqrt(-1.0)\n",
    "\n",
    "import math\n",
    "\n",
    "try:\n",
    "    result = math.sqrt(-1.0)\n",
    "except ValueError as ve:\n",
    "    print(ve)\n",
    "    \n",
    " #comment: referred from https://rollbar.com/blog/python-valueerror/   \n"
   ]
  },
  {
   "cell_type": "code",
   "execution_count": 31,
   "id": "80ed94f5-336c-4aa9-a776-b294f5cda399",
   "metadata": {
    "tags": []
   },
   "outputs": [
    {
     "ename": "NameError",
     "evalue": "name 'y' is not defined",
     "output_type": "error",
     "traceback": [
      "\u001b[0;31m---------------------------------------------------------------------------\u001b[0m",
      "\u001b[0;31mNameError\u001b[0m                                 Traceback (most recent call last)",
      "Cell \u001b[0;32mIn[31], line 3\u001b[0m\n\u001b[1;32m      1\u001b[0m \u001b[38;5;66;03m#Using an undeclared variable, such as print(x) when x has not been defined\u001b[39;00m\n\u001b[0;32m----> 3\u001b[0m \u001b[38;5;28mprint\u001b[39m(\u001b[43my\u001b[49m)\n",
      "\u001b[0;31mNameError\u001b[0m: name 'y' is not defined"
     ]
    }
   ],
   "source": [
    "#Using an undeclared variable, such as print(x) when x has not been defined\n",
    "\n",
    "print(y)\n",
    "\n"
   ]
  },
  {
   "cell_type": "code",
   "execution_count": 32,
   "id": "c4bca403-0af3-4175-81b9-44fd9ca1e16e",
   "metadata": {
    "tags": []
   },
   "outputs": [
    {
     "ename": "FileNotFoundError",
     "evalue": "[Errno 2] No such file or directory: 'filename.txt'",
     "output_type": "error",
     "traceback": [
      "\u001b[0;31m---------------------------------------------------------------------------\u001b[0m",
      "\u001b[0;31mFileNotFoundError\u001b[0m                         Traceback (most recent call last)",
      "Cell \u001b[0;32mIn[32], line 3\u001b[0m\n\u001b[1;32m      1\u001b[0m \u001b[38;5;66;03m#Trying to open a file that does not exist, such as mistyping the file name or looking in the wrong directory.\u001b[39;00m\n\u001b[0;32m----> 3\u001b[0m \u001b[38;5;28;01mwith\u001b[39;00m \u001b[38;5;28;43mopen\u001b[39;49m\u001b[43m(\u001b[49m\u001b[38;5;124;43m'\u001b[39;49m\u001b[38;5;124;43mfilename.txt\u001b[39;49m\u001b[38;5;124;43m'\u001b[39;49m\u001b[43m,\u001b[49m\u001b[43m \u001b[49m\u001b[38;5;124;43m'\u001b[39;49m\u001b[38;5;124;43mr\u001b[39;49m\u001b[38;5;124;43m'\u001b[39;49m\u001b[43m)\u001b[49m \u001b[38;5;28;01mas\u001b[39;00m file:\n\u001b[1;32m      4\u001b[0m     contents \u001b[38;5;241m=\u001b[39m file\u001b[38;5;241m.\u001b[39mread()\n",
      "File \u001b[0;32m/opt/homebrew/opt/ipython/libexec/lib/python3.11/site-packages/IPython/core/interactiveshell.py:282\u001b[0m, in \u001b[0;36m_modified_open\u001b[0;34m(file, *args, **kwargs)\u001b[0m\n\u001b[1;32m    275\u001b[0m \u001b[38;5;28;01mif\u001b[39;00m file \u001b[38;5;129;01min\u001b[39;00m {\u001b[38;5;241m0\u001b[39m, \u001b[38;5;241m1\u001b[39m, \u001b[38;5;241m2\u001b[39m}:\n\u001b[1;32m    276\u001b[0m     \u001b[38;5;28;01mraise\u001b[39;00m \u001b[38;5;167;01mValueError\u001b[39;00m(\n\u001b[1;32m    277\u001b[0m         \u001b[38;5;124mf\u001b[39m\u001b[38;5;124m\"\u001b[39m\u001b[38;5;124mIPython won\u001b[39m\u001b[38;5;124m'\u001b[39m\u001b[38;5;124mt let you open fd=\u001b[39m\u001b[38;5;132;01m{\u001b[39;00mfile\u001b[38;5;132;01m}\u001b[39;00m\u001b[38;5;124m by default \u001b[39m\u001b[38;5;124m\"\u001b[39m\n\u001b[1;32m    278\u001b[0m         \u001b[38;5;124m\"\u001b[39m\u001b[38;5;124mas it is likely to crash IPython. If you know what you are doing, \u001b[39m\u001b[38;5;124m\"\u001b[39m\n\u001b[1;32m    279\u001b[0m         \u001b[38;5;124m\"\u001b[39m\u001b[38;5;124myou can use builtins\u001b[39m\u001b[38;5;124m'\u001b[39m\u001b[38;5;124m open.\u001b[39m\u001b[38;5;124m\"\u001b[39m\n\u001b[1;32m    280\u001b[0m     )\n\u001b[0;32m--> 282\u001b[0m \u001b[38;5;28;01mreturn\u001b[39;00m \u001b[43mio_open\u001b[49m\u001b[43m(\u001b[49m\u001b[43mfile\u001b[49m\u001b[43m,\u001b[49m\u001b[43m \u001b[49m\u001b[38;5;241;43m*\u001b[39;49m\u001b[43margs\u001b[49m\u001b[43m,\u001b[49m\u001b[43m \u001b[49m\u001b[38;5;241;43m*\u001b[39;49m\u001b[38;5;241;43m*\u001b[39;49m\u001b[43mkwargs\u001b[49m\u001b[43m)\u001b[49m\n",
      "\u001b[0;31mFileNotFoundError\u001b[0m: [Errno 2] No such file or directory: 'filename.txt'"
     ]
    }
   ],
   "source": [
    "#Trying to open a file that does not exist, such as mistyping the file name or looking in the wrong directory.\n",
    "\n",
    "with open('filename.txt', 'r') as file:\n",
    "    contents = file.read()\n"
   ]
  },
  {
   "cell_type": "code",
   "execution_count": 34,
   "id": "57de735f-e983-4517-bf30-d3f6f5f1faef",
   "metadata": {
    "tags": []
   },
   "outputs": [
    {
     "name": "stdout",
     "output_type": "stream",
     "text": [
      "[0, 0, 0, 0, 0, 0, 0, 0, 0, 0, 0, 0, 0, 0, 0, 0, 0, 0, 0, 0, 0, 0, 0, 0, 0, 0]\n",
      "[0, 0, 0, 0, 0, 0, 0, 0, 0, 0, 0, 0, 0, 0, 0, 0, 0, 0, 0, 0, 0, 0, 0, 0, 0, 0]\n"
     ]
    }
   ],
   "source": [
    "#Question 10.\n",
    "#Encryption is the process of hiding the meaning of a text by substituting letters in the message with other letters, according to some system. If the process is successful, no one but the intended recipient can understand the encrypted message. Cryptanalysis refers to attempts to undo the encryption, even if some details of the encryption are unknown (for example, if an encrypted message has been intercepted). The first step of cryptanalysis is often to build up a table of letter frequencies in the encrypted text. Assume that the string letters is already defined as 'abcdefghijklmnopqrstuvwxyz'. Write a function called frequencies() that takes a string as its only parameter, and returns a list of integers, showing the number of times each character appears in the text. Your function may ignore any characters that are not in letters.\n",
    "#>>> frequencies('The quick red fox got bored and went home.')\n",
    "#[1, 1, 1, 3, 5, 1, 1, 2, 1, 0, 1, 0, 1, 2, 4, 0, 1, 2, 0, 2, 1, 0, 1, 1, 0, 0]\n",
    "#>>> frequencies('apple')\n",
    "\n",
    "def frequencies(text):\n",
    "    result = [0] * 26\n",
    "    text = text.lower()\n",
    "    letters=[]\n",
    "    for char in text:\n",
    "        if char in letters:\n",
    "            result[letters.index(char)] += 1\n",
    "    return result\n",
    "\n",
    "print(frequencies('The quick red fox got bored and went home.'))\n",
    "print(frequencies('apple'))\n"
   ]
  },
  {
   "cell_type": "code",
   "execution_count": null,
   "id": "86eb80ba-abfb-482a-95ef-5951700cc269",
   "metadata": {},
   "outputs": [],
   "source": []
  }
 ],
 "metadata": {
  "kernelspec": {
   "display_name": "Python 3 (ipykernel)",
   "language": "python",
   "name": "python3"
  },
  "language_info": {
   "codemirror_mode": {
    "name": "ipython",
    "version": 3
   },
   "file_extension": ".py",
   "mimetype": "text/x-python",
   "name": "python",
   "nbconvert_exporter": "python",
   "pygments_lexer": "ipython3",
   "version": "3.11.1"
  }
 },
 "nbformat": 4,
 "nbformat_minor": 5
}
